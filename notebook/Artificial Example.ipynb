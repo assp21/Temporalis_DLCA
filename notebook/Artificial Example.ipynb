{
 "cells": [
  {
   "cell_type": "code",
   "execution_count": 1,
   "metadata": {
    "ExecuteTime": {
     "end_time": "2018-03-03T16:52:39.344621Z",
     "start_time": "2018-03-03T16:52:39.331230Z"
    }
   },
   "outputs": [
    {
     "data": {
      "text/html": [
       "<script>\n",
       "code_show_err=false; \n",
       "function code_toggle_err() {\n",
       " if (code_show_err){\n",
       " $('div.output_stderr').hide();\n",
       " } else {\n",
       " $('div.output_stderr').show();\n",
       " }\n",
       " code_show_err = !code_show_err\n",
       "} \n",
       "$( document ).ready(code_toggle_err);\n",
       "</script>\n",
       "To toggle on/off output_stderr, click <a href=\"javascript:code_toggle_err()\">here</a>."
      ],
      "text/plain": [
       "<IPython.core.display.HTML object>"
      ]
     },
     "execution_count": 1,
     "metadata": {},
     "output_type": "execute_result"
    }
   ],
   "source": [
    "#to suppress all warnings and make more readable the notebook\n",
    "from IPython.display import HTML\n",
    "HTML('''<script>\n",
    "code_show_err=false; \n",
    "function code_toggle_err() {\n",
    " if (code_show_err){\n",
    " $('div.output_stderr').hide();\n",
    " } else {\n",
    " $('div.output_stderr').show();\n",
    " }\n",
    " code_show_err = !code_show_err\n",
    "} \n",
    "$( document ).ready(code_toggle_err);\n",
    "</script>\n",
    "To toggle on/off output_stderr, click <a href=\"javascript:code_toggle_err()\">here</a>.''')"
   ]
  },
  {
   "cell_type": "code",
   "execution_count": 1,
   "metadata": {
    "ExecuteTime": {
     "end_time": "2017-09-08T15:30:43.691763Z",
     "start_time": "2017-09-08T15:30:43.686233Z"
    },
    "collapsed": true
   },
   "outputs": [],
   "source": [
    "# add temporalis directory\n",
    "import sys\n",
    "sys.path.insert(0, \"/media/giuseppec/25F62A4E5FEED162/work/temporalis_update/brightway2-temporalis_last\") #new temporalis\n",
    "# sys.path.insert(0, \"/media/giuseppec/25F62A4E5FEED162/work/temporalis_update/brightway2-temporalis\") #old temporalis"
   ]
  },
  {
   "cell_type": "code",
   "execution_count": 2,
   "metadata": {
    "ExecuteTime": {
     "end_time": "2017-09-08T15:31:08.206550Z",
     "start_time": "2017-09-08T15:30:43.696612Z"
    },
    "collapsed": true,
    "scrolled": true
   },
   "outputs": [],
   "source": [
    "import warnings\n",
    "warnings.filterwarnings('ignore')\n",
    "\n",
    "from brightway2 import *\n",
    "from bw2temporalis import *\n",
    "import numpy as np\n",
    "import pandas as pd\n",
    "from bw2analyzer import ContributionAnalysis as con\n",
    "from matplotlib import pyplot as plt\n",
    "\n",
    "np.set_printoptions(suppress=True) \n",
    "%matplotlib inline\n",
    "\n",
    "np.set_printoptions(precision=2,suppress=True)\n",
    "%precision 2\n",
    "pd.set_option('display.precision', 2)\n",
    "pd.set_option('display.float_format', lambda x: '%.3f' % x)\n",
    "# pd.set_option('display.float_format', 2)\n",
    "\n"
   ]
  },
  {
   "cell_type": "markdown",
   "metadata": {},
   "source": [
    "### Here we set the project and create the artificial database"
   ]
  },
  {
   "cell_type": "code",
   "execution_count": 3,
   "metadata": {
    "ExecuteTime": {
     "end_time": "2017-09-08T15:31:08.289326Z",
     "start_time": "2017-09-08T15:31:08.207917Z"
    },
    "collapsed": true,
    "scrolled": true
   },
   "outputs": [],
   "source": [
    "projects.set_current('temporalis_demo')\n"
   ]
  },
  {
   "cell_type": "code",
   "execution_count": 4,
   "metadata": {
    "ExecuteTime": {
     "end_time": "2017-09-08T15:31:08.986275Z",
     "start_time": "2017-09-08T15:31:08.291126Z"
    }
   },
   "outputs": [
    {
     "name": "stderr",
     "output_type": "stream",
     "text": [
      "Writing activities to SQLite3 database:\n",
      "0%  100%\n",
      "[##] | ETA: 00:00:00\n",
      "Total time elapsed: 00:00:00\n",
      "Writing activities to SQLite3 database:\n",
      "0%   100%\n",
      "[#######] | ETA: 00:00:00\n",
      "Total time elapsed: 00:00:00\n"
     ]
    },
    {
     "name": "stdout",
     "output_type": "stream",
     "text": [
      "Title: Writing activities to SQLite3 database:\n",
      "  Started: 09/08/2017 17:31:08\n",
      "  Finished: 09/08/2017 17:31:08\n",
      "  Total time elapsed: 00:00:00\n",
      "  CPU %: 0.00\n",
      "  Memory %: 2.04\n",
      "Title: Writing activities to SQLite3 database:\n",
      "  Started: 09/08/2017 17:31:08\n",
      "  Finished: 09/08/2017 17:31:08\n",
      "  Total time elapsed: 00:00:00\n",
      "  CPU %: 219.20\n",
      "  Memory %: 2.04\n"
     ]
    }
   ],
   "source": [
    "#DATABASE\n",
    "#dyanmic\n",
    "tempo_example={    \n",
    "('tempo_example', '2'): {\n",
    "    'code': '2',\n",
    "    'database': 'tempo_example',\n",
    "    'name': '2',\n",
    "    'type': 'process',\n",
    "    'exchanges': [\n",
    "            {\n",
    "            'amount': .4,\n",
    "            'input': ('tempo_example', '6'),\n",
    "            'output': ('tempo_example', '2'),\n",
    "            'temporal distribution': [(-3, .2), (-1, .2)],\n",
    "            'type': 'technosphere'\n",
    "            },{\n",
    "            'amount': 5,\n",
    "            'temporal distribution': [(-5, 1), (-4, 1.5),(-1, 1.7), (0, 0.8)],\n",
    "            'input': ('tempo_example', 'c'),\n",
    "            'output': ('tempo_example', '2'),\n",
    "            'type': 'biosphere'\n",
    "            }\n",
    "                 ],\n",
    "                            },                                     \n",
    "('tempo_example', '4'): {\n",
    "    'code': '4',\n",
    "    'database': 'tempo_example',\n",
    "    'name': '4',\n",
    "    'type': 'process',\n",
    "    'exchanges': [\n",
    "            {\n",
    "            'amount': 0.6,\n",
    "            'input': ('tempo_static', '1'),\n",
    "            'output': ('tempo_example', '4'),\n",
    "            'temporal distribution': [(-1, .2), (0, .4)],\n",
    "            'type': 'technosphere'\n",
    "            },{\n",
    "            'amount': .6,\n",
    "            'temporal distribution': [(-2, 0.4), (-0, .2)],\n",
    "            'input': ('tempo_example', '5'),\n",
    "            'output': ('tempo_example', '4'),\n",
    "            'type': 'technosphere'\n",
    "            },\n",
    "            {\n",
    "            'amount': 0.3,\n",
    "            'input': ('tempo_example', '6'),\n",
    "            'output': ('tempo_example', '4'),\n",
    "            'temporal distribution': [(-1, .14), (0, .16)],\n",
    "            'type': 'technosphere'\n",
    "            },{\n",
    "            'amount': 3,\n",
    "            'temporal distribution': [(-2, 1.5), (-1, 0.5),(0, .4), (1, 0.6)],\n",
    "            'input': ('tempo_example', 'a'),\n",
    "            'output': ('tempo_example', '4'),\n",
    "            'type': 'biosphere'\n",
    "            },{\n",
    "            'amount': 2,\n",
    "            'temporal distribution': [(-1, 1),(1, 1)],\n",
    "            'input': ('tempo_example', 'b'),\n",
    "            'output': ('tempo_example', '4'),\n",
    "            'type': 'biosphere'\n",
    "            }         \n",
    "                 ],\n",
    "                        },\n",
    "('tempo_example', '5'): {\n",
    "    'code': '5',\n",
    "    'database': 'tempo_example',\n",
    "    'name': '5',\n",
    "    'type': 'process',\n",
    "    'exchanges': [\n",
    "            {\n",
    "            'amount': 10,\n",
    "            'temporal distribution': [(x,1) for x in range(-10,0)],\n",
    "            'input': ('tempo_example', 'a'),\n",
    "            'output': ('tempo_example', '5'),\n",
    "            'type': 'biosphere'\n",
    "            }\n",
    "                 ],\n",
    "                        }, \n",
    "('tempo_example', '6'): {\n",
    "    'code': '6',\n",
    "    'database': 'tempo_example',\n",
    "    'name': '6',\n",
    "    'type': 'process',\n",
    "    'exchanges': [\n",
    "            {\n",
    "            'amount': .5,\n",
    "            'input': ('tempo_example', '2'),\n",
    "            'output': ('tempo_example', '6'),\n",
    "            'temporal distribution': [(-5, .2), (-4,.3)],\n",
    "            'type': 'technosphere'\n",
    "            },{\n",
    "            'amount': 0.2,\n",
    "            'input': ('tempo_example', '5'),\n",
    "            'output': ('tempo_example', '6'),\n",
    "            'temporal distribution': [(-1, .04), (0, .06),  (1, .1)],\n",
    "            'type': 'technosphere'\n",
    "            },{\n",
    "            'amount': 4,\n",
    "            'temporal distribution': [(-2, 1), (-1, 1),(0, 1), (1, 1)],\n",
    "            'input': ('tempo_example', 'b'),\n",
    "            'output': ('tempo_example', '6'),\n",
    "            'type': 'biosphere'\n",
    "            }           \n",
    "                 ],\n",
    "                        },                                    \n",
    "#biosphere\n",
    "('tempo_example', 'a'): {\n",
    "    'code': 'a',\n",
    "    'database': 'tempo_example',\n",
    "    'name': 'a',\n",
    "    'type': 'emission',                            \n",
    "                        },    \n",
    "('tempo_example', 'b'): {\n",
    "    'code': 'b',\n",
    "    'database': 'tempo_example',\n",
    "    'name': 'b',\n",
    "    'type': 'emission',                            \n",
    "                        },\n",
    "('tempo_example', 'c'): {\n",
    "    'code': 'c',\n",
    "    'database': 'tempo_example',\n",
    "    'name': 'c',\n",
    "    'type': 'emission',                            \n",
    "                        },\n",
    "}\n",
    "\n",
    "#static\n",
    "static={('tempo_static', '1'): {\n",
    "    'code': '1',\n",
    "    'database': 'tempo_static',\n",
    "    'name': '1',\n",
    "    'type': 'process',\n",
    "    'exchanges': [\n",
    "            {\n",
    "            'amount': 0.4,\n",
    "            'input': ('tempo_static', '3'),\n",
    "            'output': ('tempo_static', '1'),\n",
    "            'type': 'technosphere'\n",
    "            },{\n",
    "            'amount': 7.5,\n",
    "            'input': ('tempo_example', 'c'),\n",
    "            'output': ('tempo_static', '1'),\n",
    "            'type': 'biosphere'\n",
    "            }\n",
    "                 ],\n",
    "                            },\n",
    "('tempo_static', '3'): {\n",
    "    'code': '3',\n",
    "    'database': 'tempo_static',\n",
    "    'name': '3',\n",
    "    'type': 'process',\n",
    "    'exchanges': [\n",
    "            {\n",
    "            'amount': 4,\n",
    "            'temporal distribution': [(-5, 1), (-2, 1.5),(0, 0.7), (1, 0.8)],\n",
    "            'input': ('tempo_example', 'a'),\n",
    "            'output': ('tempo_static', '3'),\n",
    "            'type': 'biosphere'\n",
    "            }\n",
    "                 ],\n",
    "                        }, \n",
    "}\n",
    "\n",
    "#write databases\n",
    "\n",
    "\n",
    "st=Database('tempo_static')\n",
    "st.write(static)\n",
    "\n",
    "db=Database('tempo_example')\n",
    "db.write(tempo_example)\n",
    "\n",
    "#IA method\n",
    "\n",
    "tempo_ex_met=[(('tempo_example', 'a'), 1),\n",
    " (('tempo_example', 'b'), 1),\n",
    " (('tempo_example', 'c'), 1)]\n",
    "\n",
    "met=Method(('tempo','method'))\n",
    "met.register()\n",
    "met.write(tempo_ex_met)"
   ]
  },
  {
   "cell_type": "markdown",
   "metadata": {},
   "source": [
    "### run static LCA and export A,B,s and g matrix"
   ]
  },
  {
   "cell_type": "code",
   "execution_count": 5,
   "metadata": {
    "ExecuteTime": {
     "end_time": "2017-09-08T15:31:08.992740Z",
     "start_time": "2017-09-08T15:31:08.987620Z"
    },
    "collapsed": true,
    "scrolled": true
   },
   "outputs": [],
   "source": [
    "fu={('tempo_example', '4'):1} \n",
    "method=('tempo','method')\n",
    "\n",
    "# get list of bio flow in the methods\n",
    "bio_meth=[x[0] for x in Method(method).load()]"
   ]
  },
  {
   "cell_type": "code",
   "execution_count": 6,
   "metadata": {
    "ExecuteTime": {
     "end_time": "2017-09-08T15:31:09.057477Z",
     "start_time": "2017-09-08T15:31:08.994874Z"
    },
    "scrolled": true
   },
   "outputs": [
    {
     "name": "stdout",
     "output_type": "stream",
     "text": [
      "score static LCA:  19.647500619394705\n"
     ]
    }
   ],
   "source": [
    "lca = LCA(fu, method)\n",
    "lca.lci()\n",
    "lca.lcia()\n",
    "print('score static LCA: ', lca.score)"
   ]
  },
  {
   "cell_type": "markdown",
   "metadata": {},
   "source": [
    "### Get static matrixes"
   ]
  },
  {
   "cell_type": "code",
   "execution_count": 7,
   "metadata": {
    "ExecuteTime": {
     "end_time": "2017-09-08T15:31:09.062889Z",
     "start_time": "2017-09-08T15:31:09.059065Z"
    },
    "collapsed": true
   },
   "outputs": [],
   "source": [
    "#reverse dictionaries\n",
    "act,prod,bio=lca.reverse_dict()"
   ]
  },
  {
   "cell_type": "code",
   "execution_count": 8,
   "metadata": {
    "ExecuteTime": {
     "end_time": "2017-09-08T15:31:09.127867Z",
     "start_time": "2017-09-08T15:31:09.064617Z"
    },
    "scrolled": true
   },
   "outputs": [
    {
     "data": {
      "text/html": [
       "<div>\n",
       "<style>\n",
       "    .dataframe thead tr:only-child th {\n",
       "        text-align: right;\n",
       "    }\n",
       "\n",
       "    .dataframe thead th {\n",
       "        text-align: left;\n",
       "    }\n",
       "\n",
       "    .dataframe tbody tr th {\n",
       "        vertical-align: top;\n",
       "    }\n",
       "</style>\n",
       "<table border=\"1\" class=\"dataframe\">\n",
       "  <thead>\n",
       "    <tr style=\"text-align: right;\">\n",
       "      <th></th>\n",
       "      <th>1</th>\n",
       "      <th>2</th>\n",
       "      <th>3</th>\n",
       "      <th>4</th>\n",
       "      <th>5</th>\n",
       "      <th>6</th>\n",
       "    </tr>\n",
       "  </thead>\n",
       "  <tbody>\n",
       "    <tr>\n",
       "      <th>1</th>\n",
       "      <td>1.000</td>\n",
       "      <td>0.000</td>\n",
       "      <td>0.000</td>\n",
       "      <td>-0.600</td>\n",
       "      <td>0.000</td>\n",
       "      <td>0.000</td>\n",
       "    </tr>\n",
       "    <tr>\n",
       "      <th>2</th>\n",
       "      <td>0.000</td>\n",
       "      <td>1.000</td>\n",
       "      <td>0.000</td>\n",
       "      <td>0.000</td>\n",
       "      <td>0.000</td>\n",
       "      <td>-0.500</td>\n",
       "    </tr>\n",
       "    <tr>\n",
       "      <th>3</th>\n",
       "      <td>-0.400</td>\n",
       "      <td>0.000</td>\n",
       "      <td>1.000</td>\n",
       "      <td>0.000</td>\n",
       "      <td>0.000</td>\n",
       "      <td>0.000</td>\n",
       "    </tr>\n",
       "    <tr>\n",
       "      <th>4</th>\n",
       "      <td>0.000</td>\n",
       "      <td>0.000</td>\n",
       "      <td>0.000</td>\n",
       "      <td>1.000</td>\n",
       "      <td>0.000</td>\n",
       "      <td>0.000</td>\n",
       "    </tr>\n",
       "    <tr>\n",
       "      <th>5</th>\n",
       "      <td>0.000</td>\n",
       "      <td>0.000</td>\n",
       "      <td>0.000</td>\n",
       "      <td>-0.600</td>\n",
       "      <td>1.000</td>\n",
       "      <td>-0.200</td>\n",
       "    </tr>\n",
       "    <tr>\n",
       "      <th>6</th>\n",
       "      <td>0.000</td>\n",
       "      <td>-0.400</td>\n",
       "      <td>0.000</td>\n",
       "      <td>-0.300</td>\n",
       "      <td>0.000</td>\n",
       "      <td>1.000</td>\n",
       "    </tr>\n",
       "  </tbody>\n",
       "</table>\n",
       "</div>"
      ],
      "text/plain": [
       "       1      2     3      4     5      6\n",
       "1  1.000  0.000 0.000 -0.600 0.000  0.000\n",
       "2  0.000  1.000 0.000  0.000 0.000 -0.500\n",
       "3 -0.400  0.000 1.000  0.000 0.000  0.000\n",
       "4  0.000  0.000 0.000  1.000 0.000  0.000\n",
       "5  0.000  0.000 0.000 -0.600 1.000 -0.200\n",
       "6  0.000 -0.400 0.000 -0.300 0.000  1.000"
      ]
     },
     "execution_count": 8,
     "metadata": {},
     "output_type": "execute_result"
    }
   ],
   "source": [
    "tec=pd.DataFrame(lca.technosphere_matrix.todense())\n",
    "#change index and col\n",
    "tec.rename(columns={k:v[1] for k,v in act.items()},inplace=True)\n",
    "tec.rename(index={k:v[1] for k,v in prod.items()},inplace=True)\n",
    "tec.sort_index(axis=1,inplace=True);tec.sort_index(axis=0,inplace=True)\n",
    "tec"
   ]
  },
  {
   "cell_type": "code",
   "execution_count": 9,
   "metadata": {
    "ExecuteTime": {
     "end_time": "2017-09-08T15:31:09.147443Z",
     "start_time": "2017-09-08T15:31:09.129597Z"
    }
   },
   "outputs": [
    {
     "data": {
      "text/html": [
       "<div>\n",
       "<style>\n",
       "    .dataframe thead tr:only-child th {\n",
       "        text-align: right;\n",
       "    }\n",
       "\n",
       "    .dataframe thead th {\n",
       "        text-align: left;\n",
       "    }\n",
       "\n",
       "    .dataframe tbody tr th {\n",
       "        vertical-align: top;\n",
       "    }\n",
       "</style>\n",
       "<table border=\"1\" class=\"dataframe\">\n",
       "  <thead>\n",
       "    <tr style=\"text-align: right;\">\n",
       "      <th></th>\n",
       "      <th>1</th>\n",
       "      <th>2</th>\n",
       "      <th>3</th>\n",
       "      <th>4</th>\n",
       "      <th>5</th>\n",
       "      <th>6</th>\n",
       "    </tr>\n",
       "  </thead>\n",
       "  <tbody>\n",
       "    <tr>\n",
       "      <th>a</th>\n",
       "      <td>0.000</td>\n",
       "      <td>0.000</td>\n",
       "      <td>4.000</td>\n",
       "      <td>3.000</td>\n",
       "      <td>10.000</td>\n",
       "      <td>0.000</td>\n",
       "    </tr>\n",
       "    <tr>\n",
       "      <th>b</th>\n",
       "      <td>0.000</td>\n",
       "      <td>0.000</td>\n",
       "      <td>0.000</td>\n",
       "      <td>2.000</td>\n",
       "      <td>0.000</td>\n",
       "      <td>4.000</td>\n",
       "    </tr>\n",
       "    <tr>\n",
       "      <th>c</th>\n",
       "      <td>7.500</td>\n",
       "      <td>5.000</td>\n",
       "      <td>0.000</td>\n",
       "      <td>0.000</td>\n",
       "      <td>0.000</td>\n",
       "      <td>0.000</td>\n",
       "    </tr>\n",
       "  </tbody>\n",
       "</table>\n",
       "</div>"
      ],
      "text/plain": [
       "      1     2     3     4      5     6\n",
       "a 0.000 0.000 4.000 3.000 10.000 0.000\n",
       "b 0.000 0.000 0.000 2.000  0.000 4.000\n",
       "c 7.500 5.000 0.000 0.000  0.000 0.000"
      ]
     },
     "execution_count": 9,
     "metadata": {},
     "output_type": "execute_result"
    }
   ],
   "source": [
    "bio_mat=pd.DataFrame(lca.biosphere_matrix.toarray())\n",
    "#change index and col\n",
    "bio_mat.rename(columns={k:v[1] for k,v in act.items()},inplace=True)\n",
    "bio_mat.rename(index={k:v[1] for k,v in bio.items()},inplace=True)\n",
    "bio_mat.sort_index(axis=1)"
   ]
  },
  {
   "cell_type": "code",
   "execution_count": 10,
   "metadata": {
    "ExecuteTime": {
     "end_time": "2017-09-08T15:31:09.178190Z",
     "start_time": "2017-09-08T15:31:09.148956Z"
    }
   },
   "outputs": [
    {
     "data": {
      "text/html": [
       "<div>\n",
       "<style>\n",
       "    .dataframe thead tr:only-child th {\n",
       "        text-align: right;\n",
       "    }\n",
       "\n",
       "    .dataframe thead th {\n",
       "        text-align: left;\n",
       "    }\n",
       "\n",
       "    .dataframe tbody tr th {\n",
       "        vertical-align: top;\n",
       "    }\n",
       "</style>\n",
       "<table border=\"1\" class=\"dataframe\">\n",
       "  <thead>\n",
       "    <tr style=\"text-align: right;\">\n",
       "      <th></th>\n",
       "      <th>0</th>\n",
       "    </tr>\n",
       "  </thead>\n",
       "  <tbody>\n",
       "    <tr>\n",
       "      <th>1</th>\n",
       "      <td>0.600</td>\n",
       "    </tr>\n",
       "    <tr>\n",
       "      <th>2</th>\n",
       "      <td>0.188</td>\n",
       "    </tr>\n",
       "    <tr>\n",
       "      <th>3</th>\n",
       "      <td>0.240</td>\n",
       "    </tr>\n",
       "    <tr>\n",
       "      <th>4</th>\n",
       "      <td>1.000</td>\n",
       "    </tr>\n",
       "    <tr>\n",
       "      <th>5</th>\n",
       "      <td>0.675</td>\n",
       "    </tr>\n",
       "    <tr>\n",
       "      <th>6</th>\n",
       "      <td>0.375</td>\n",
       "    </tr>\n",
       "  </tbody>\n",
       "</table>\n",
       "</div>"
      ],
      "text/plain": [
       "      0\n",
       "1 0.600\n",
       "2 0.188\n",
       "3 0.240\n",
       "4 1.000\n",
       "5 0.675\n",
       "6 0.375"
      ]
     },
     "execution_count": 10,
     "metadata": {},
     "output_type": "execute_result"
    }
   ],
   "source": [
    "scaling=pd.DataFrame(lca.supply_array)\n",
    "scaling.rename(index={k:v[1] for k,v in prod.items()},inplace=True)\n",
    "scaling.sort_index(axis=0,inplace=True)\n",
    "scaling\n"
   ]
  },
  {
   "cell_type": "code",
   "execution_count": 11,
   "metadata": {
    "ExecuteTime": {
     "end_time": "2017-09-08T15:31:09.197112Z",
     "start_time": "2017-09-08T15:31:09.179961Z"
    }
   },
   "outputs": [
    {
     "data": {
      "text/html": [
       "<div>\n",
       "<style>\n",
       "    .dataframe thead tr:only-child th {\n",
       "        text-align: right;\n",
       "    }\n",
       "\n",
       "    .dataframe thead th {\n",
       "        text-align: left;\n",
       "    }\n",
       "\n",
       "    .dataframe tbody tr th {\n",
       "        vertical-align: top;\n",
       "    }\n",
       "</style>\n",
       "<table border=\"1\" class=\"dataframe\">\n",
       "  <thead>\n",
       "    <tr style=\"text-align: right;\">\n",
       "      <th></th>\n",
       "      <th>1</th>\n",
       "      <th>2</th>\n",
       "      <th>3</th>\n",
       "      <th>4</th>\n",
       "      <th>5</th>\n",
       "      <th>6</th>\n",
       "    </tr>\n",
       "  </thead>\n",
       "  <tbody>\n",
       "    <tr>\n",
       "      <th>a</th>\n",
       "      <td>0.000</td>\n",
       "      <td>0.000</td>\n",
       "      <td>0.960</td>\n",
       "      <td>3.000</td>\n",
       "      <td>6.750</td>\n",
       "      <td>0.000</td>\n",
       "    </tr>\n",
       "    <tr>\n",
       "      <th>b</th>\n",
       "      <td>0.000</td>\n",
       "      <td>0.000</td>\n",
       "      <td>0.000</td>\n",
       "      <td>2.000</td>\n",
       "      <td>0.000</td>\n",
       "      <td>1.500</td>\n",
       "    </tr>\n",
       "    <tr>\n",
       "      <th>c</th>\n",
       "      <td>4.500</td>\n",
       "      <td>0.938</td>\n",
       "      <td>0.000</td>\n",
       "      <td>0.000</td>\n",
       "      <td>0.000</td>\n",
       "      <td>0.000</td>\n",
       "    </tr>\n",
       "  </tbody>\n",
       "</table>\n",
       "</div>"
      ],
      "text/plain": [
       "      1     2     3     4     5     6\n",
       "a 0.000 0.000 0.960 3.000 6.750 0.000\n",
       "b 0.000 0.000 0.000 2.000 0.000 1.500\n",
       "c 4.500 0.938 0.000 0.000 0.000 0.000"
      ]
     },
     "execution_count": 11,
     "metadata": {},
     "output_type": "execute_result"
    }
   ],
   "source": [
    "inv=pd.DataFrame(lca.inventory.todense())\n",
    "#change index and col\n",
    "inv.rename(columns={k:v[1] for k,v in act.items()},inplace=True)\n",
    "inv.rename(index={k:v[1] for k,v in bio.items()},inplace=True)\n",
    "inv.sort_index(axis=1,inplace=True);inv.sort_index(axis=0,inplace=True)\n",
    "inv\n",
    "# print(inv.to_latex())"
   ]
  },
  {
   "cell_type": "code",
   "execution_count": 12,
   "metadata": {
    "ExecuteTime": {
     "end_time": "2017-09-08T15:31:09.218564Z",
     "start_time": "2017-09-08T15:31:09.198864Z"
    },
    "scrolled": true
   },
   "outputs": [
    {
     "data": {
      "text/html": [
       "<div>\n",
       "<style>\n",
       "    .dataframe thead tr:only-child th {\n",
       "        text-align: right;\n",
       "    }\n",
       "\n",
       "    .dataframe thead th {\n",
       "        text-align: left;\n",
       "    }\n",
       "\n",
       "    .dataframe tbody tr th {\n",
       "        vertical-align: top;\n",
       "    }\n",
       "</style>\n",
       "<table border=\"1\" class=\"dataframe\">\n",
       "  <thead>\n",
       "    <tr style=\"text-align: right;\">\n",
       "      <th></th>\n",
       "      <th>0</th>\n",
       "    </tr>\n",
       "  </thead>\n",
       "  <tbody>\n",
       "    <tr>\n",
       "      <th>a</th>\n",
       "      <td>10.710</td>\n",
       "    </tr>\n",
       "    <tr>\n",
       "      <th>b</th>\n",
       "      <td>3.500</td>\n",
       "    </tr>\n",
       "    <tr>\n",
       "      <th>c</th>\n",
       "      <td>5.438</td>\n",
       "    </tr>\n",
       "  </tbody>\n",
       "</table>\n",
       "</div>"
      ],
      "text/plain": [
       "       0\n",
       "a 10.710\n",
       "b  3.500\n",
       "c  5.438"
      ]
     },
     "execution_count": 12,
     "metadata": {},
     "output_type": "execute_result"
    }
   ],
   "source": [
    "pd.DataFrame(inv.sum(axis=1))\n"
   ]
  },
  {
   "cell_type": "markdown",
   "metadata": {
    "ExecuteTime": {
     "end_time": "2017-03-17T16:56:59.603196Z",
     "start_time": "2017-03-17T17:56:59.590175+01:00"
    }
   },
   "source": [
    "### run dynamic LCA (the codes of the dynamic LCA algorithm have been modified to print out all the steps of the traversal to be included in the supplementary material"
   ]
  },
  {
   "cell_type": "code",
   "execution_count": 13,
   "metadata": {
    "ExecuteTime": {
     "end_time": "2017-05-05T08:40:11.558761Z",
     "start_time": "2017-05-05T10:40:09.120368+02:00"
    },
    "scrolled": false
   },
   "outputs": [
    {
     "name": "stderr",
     "output_type": "stream",
     "text": [
      "Warning: The old format for `temporal distribution` is deprecated, now must be a `TemporalDistribution` object instead of a nested list of tuples. The applied convertion might be incorrect in the exchange from ('tempo_example', 'a') to ('tempo_example', '4')\n",
      "Warning: The old format for `temporal distribution` is deprecated, now must be a `TemporalDistribution` object instead of a nested list of tuples. The applied convertion might be incorrect in the exchange from ('tempo_example', 'b') to ('tempo_example', '4')\n",
      "Warning: The old format for `temporal distribution` is deprecated, now must be a `TemporalDistribution` object instead of a nested list of tuples. The applied convertion might be incorrect in the exchange from ('tempo_static', '1') to ('tempo_example', '4')\n",
      "Warning: The old format for `temporal distribution` is deprecated, now must be a `TemporalDistribution` object instead of a nested list of tuples. The applied convertion might be incorrect in the exchange from ('tempo_example', '5') to ('tempo_example', '4')\n",
      "Warning: The old format for `temporal distribution` is deprecated, now must be a `TemporalDistribution` object instead of a nested list of tuples. The applied convertion might be incorrect in the exchange from ('tempo_example', '6') to ('tempo_example', '4')\n",
      "Warning: The old format for `temporal distribution` is deprecated, now must be a `TemporalDistribution` object instead of a nested list of tuples. The applied convertion might be incorrect in the exchange from ('tempo_example', 'a') to ('tempo_example', '5')\n",
      "Warning: The old format for `temporal distribution` is deprecated, now must be a `TemporalDistribution` object instead of a nested list of tuples. The applied convertion might be incorrect in the exchange from ('tempo_example', 'b') to ('tempo_example', '6')\n",
      "Warning: The old format for `temporal distribution` is deprecated, now must be a `TemporalDistribution` object instead of a nested list of tuples. The applied convertion might be incorrect in the exchange from ('tempo_example', '2') to ('tempo_example', '6')\n",
      "Warning: The old format for `temporal distribution` is deprecated, now must be a `TemporalDistribution` object instead of a nested list of tuples. The applied convertion might be incorrect in the exchange from ('tempo_example', '5') to ('tempo_example', '6')\n",
      "Warning: The old format for `temporal distribution` is deprecated, now must be a `TemporalDistribution` object instead of a nested list of tuples. The applied convertion might be incorrect in the exchange from ('tempo_example', 'c') to ('tempo_example', '2')\n",
      "Warning: The old format for `temporal distribution` is deprecated, now must be a `TemporalDistribution` object instead of a nested list of tuples. The applied convertion might be incorrect in the exchange from ('tempo_example', '6') to ('tempo_example', '2')\n",
      "Warning: The old format for `temporal distribution` is deprecated, now must be a `TemporalDistribution` object instead of a nested list of tuples. The applied convertion might be incorrect in the exchange from ('tempo_example', 'b') to ('tempo_example', '6')\n",
      "Warning: The old format for `temporal distribution` is deprecated, now must be a `TemporalDistribution` object instead of a nested list of tuples. The applied convertion might be incorrect in the exchange from ('tempo_example', '2') to ('tempo_example', '6')\n",
      "Warning: The old format for `temporal distribution` is deprecated, now must be a `TemporalDistribution` object instead of a nested list of tuples. The applied convertion might be incorrect in the exchange from ('tempo_example', '5') to ('tempo_example', '6')\n",
      "Warning: The old format for `temporal distribution` is deprecated, now must be a `TemporalDistribution` object instead of a nested list of tuples. The applied convertion might be incorrect in the exchange from ('tempo_example', 'a') to ('tempo_example', '5')\n",
      "Warning: The old format for `temporal distribution` is deprecated, now must be a `TemporalDistribution` object instead of a nested list of tuples. The applied convertion might be incorrect in the exchange from ('tempo_example', 'c') to ('tempo_example', '2')\n",
      "Warning: The old format for `temporal distribution` is deprecated, now must be a `TemporalDistribution` object instead of a nested list of tuples. The applied convertion might be incorrect in the exchange from ('tempo_example', '6') to ('tempo_example', '2')\n",
      "Warning: The old format for `temporal distribution` is deprecated, now must be a `TemporalDistribution` object instead of a nested list of tuples. The applied convertion might be incorrect in the exchange from ('tempo_example', 'b') to ('tempo_example', '6')\n",
      "Warning: The old format for `temporal distribution` is deprecated, now must be a `TemporalDistribution` object instead of a nested list of tuples. The applied convertion might be incorrect in the exchange from ('tempo_example', '2') to ('tempo_example', '6')\n",
      "Warning: The old format for `temporal distribution` is deprecated, now must be a `TemporalDistribution` object instead of a nested list of tuples. The applied convertion might be incorrect in the exchange from ('tempo_example', '5') to ('tempo_example', '6')\n",
      "Warning: The old format for `temporal distribution` is deprecated, now must be a `TemporalDistribution` object instead of a nested list of tuples. The applied convertion might be incorrect in the exchange from ('tempo_example', 'a') to ('tempo_example', '5')\n",
      "Warning: The old format for `temporal distribution` is deprecated, now must be a `TemporalDistribution` object instead of a nested list of tuples. The applied convertion might be incorrect in the exchange from ('tempo_example', 'c') to ('tempo_example', '2')\n",
      "Warning: The old format for `temporal distribution` is deprecated, now must be a `TemporalDistribution` object instead of a nested list of tuples. The applied convertion might be incorrect in the exchange from ('tempo_example', '6') to ('tempo_example', '2')\n",
      "Warning: The old format for `temporal distribution` is deprecated, now must be a `TemporalDistribution` object instead of a nested list of tuples. The applied convertion might be incorrect in the exchange from ('tempo_example', 'b') to ('tempo_example', '6')\n",
      "Warning: The old format for `temporal distribution` is deprecated, now must be a `TemporalDistribution` object instead of a nested list of tuples. The applied convertion might be incorrect in the exchange from ('tempo_example', '2') to ('tempo_example', '6')\n",
      "Warning: The old format for `temporal distribution` is deprecated, now must be a `TemporalDistribution` object instead of a nested list of tuples. The applied convertion might be incorrect in the exchange from ('tempo_example', '5') to ('tempo_example', '6')\n",
      "Warning: The old format for `temporal distribution` is deprecated, now must be a `TemporalDistribution` object instead of a nested list of tuples. The applied convertion might be incorrect in the exchange from ('tempo_example', 'a') to ('tempo_example', '5')\n",
      "Warning: The old format for `temporal distribution` is deprecated, now must be a `TemporalDistribution` object instead of a nested list of tuples. The applied convertion might be incorrect in the exchange from ('tempo_example', 'c') to ('tempo_example', '2')\n",
      "Warning: The old format for `temporal distribution` is deprecated, now must be a `TemporalDistribution` object instead of a nested list of tuples. The applied convertion might be incorrect in the exchange from ('tempo_example', '6') to ('tempo_example', '2')\n",
      "Warning: The old format for `temporal distribution` is deprecated, now must be a `TemporalDistribution` object instead of a nested list of tuples. The applied convertion might be incorrect in the exchange from ('tempo_example', 'b') to ('tempo_example', '6')\n",
      "Warning: The old format for `temporal distribution` is deprecated, now must be a `TemporalDistribution` object instead of a nested list of tuples. The applied convertion might be incorrect in the exchange from ('tempo_example', '2') to ('tempo_example', '6')\n",
      "Warning: The old format for `temporal distribution` is deprecated, now must be a `TemporalDistribution` object instead of a nested list of tuples. The applied convertion might be incorrect in the exchange from ('tempo_example', '5') to ('tempo_example', '6')\n",
      "Warning: The old format for `temporal distribution` is deprecated, now must be a `TemporalDistribution` object instead of a nested list of tuples. The applied convertion might be incorrect in the exchange from ('tempo_example', 'a') to ('tempo_example', '5')\n",
      "Warning: The old format for `temporal distribution` is deprecated, now must be a `TemporalDistribution` object instead of a nested list of tuples. The applied convertion might be incorrect in the exchange from ('tempo_example', 'c') to ('tempo_example', '2')\n",
      "Warning: The old format for `temporal distribution` is deprecated, now must be a `TemporalDistribution` object instead of a nested list of tuples. The applied convertion might be incorrect in the exchange from ('tempo_example', '6') to ('tempo_example', '2')\n",
      "Warning: The old format for `temporal distribution` is deprecated, now must be a `TemporalDistribution` object instead of a nested list of tuples. The applied convertion might be incorrect in the exchange from ('tempo_example', 'b') to ('tempo_example', '6')\n",
      "Warning: The old format for `temporal distribution` is deprecated, now must be a `TemporalDistribution` object instead of a nested list of tuples. The applied convertion might be incorrect in the exchange from ('tempo_example', '2') to ('tempo_example', '6')\n",
      "Warning: The old format for `temporal distribution` is deprecated, now must be a `TemporalDistribution` object instead of a nested list of tuples. The applied convertion might be incorrect in the exchange from ('tempo_example', '5') to ('tempo_example', '6')\n",
      "Warning: The old format for `temporal distribution` is deprecated, now must be a `TemporalDistribution` object instead of a nested list of tuples. The applied convertion might be incorrect in the exchange from ('tempo_example', 'a') to ('tempo_example', '5')\n",
      "Warning: The old format for `temporal distribution` is deprecated, now must be a `TemporalDistribution` object instead of a nested list of tuples. The applied convertion might be incorrect in the exchange from ('tempo_example', 'c') to ('tempo_example', '2')\n",
      "Warning: The old format for `temporal distribution` is deprecated, now must be a `TemporalDistribution` object instead of a nested list of tuples. The applied convertion might be incorrect in the exchange from ('tempo_example', '6') to ('tempo_example', '2')\n",
      "Warning: The old format for `temporal distribution` is deprecated, now must be a `TemporalDistribution` object instead of a nested list of tuples. The applied convertion might be incorrect in the exchange from ('tempo_example', 'b') to ('tempo_example', '6')\n",
      "Warning: The old format for `temporal distribution` is deprecated, now must be a `TemporalDistribution` object instead of a nested list of tuples. The applied convertion might be incorrect in the exchange from ('tempo_example', '2') to ('tempo_example', '6')\n",
      "Warning: The old format for `temporal distribution` is deprecated, now must be a `TemporalDistribution` object instead of a nested list of tuples. The applied convertion might be incorrect in the exchange from ('tempo_example', '5') to ('tempo_example', '6')\n",
      "Warning: Interpreting naive datetime as local 2017-05-05 10:40:09.120368. Please add timezone info to timestamps.\n"
     ]
    }
   ],
   "source": [
    "dlca = DynamicLCA(fu, method,cutoff=0.00001,now=np.datetime64('2017-01-01'))\n",
    "timeline=dlca.calculate()\n"
   ]
  },
  {
   "cell_type": "markdown",
   "metadata": {},
   "source": [
    "### Let's first check the difference in the cumulative results between the static and the dynamic LCA using the same LCIA method"
   ]
  },
  {
   "cell_type": "code",
   "execution_count": 14,
   "metadata": {
    "ExecuteTime": {
     "end_time": "2017-05-05T08:40:11.565352Z",
     "start_time": "2017-05-05T10:40:11.560633+02:00"
    },
    "scrolled": false
   },
   "outputs": [
    {
     "name": "stdout",
     "output_type": "stream",
     "text": [
      "difference in percentage between the two:  -0.0016277403491706227\n"
     ]
    },
    {
     "name": "stderr",
     "output_type": "stream",
     "text": [
      "Warning: Interpreting naive datetime as local 2017-05-05 10:40:11.560633. Please add timezone info to timestamps.\n"
     ]
    }
   ],
   "source": [
    "#check results\n",
    "res=timeline.characterize_static(method,cumulative=False)\n",
    "print(\"difference in percentage between the two: \", (sum(res[1])-lca.score)/sum(res[1])*100)"
   ]
  },
  {
   "cell_type": "markdown",
   "metadata": {
    "ExecuteTime": {
     "end_time": "2017-05-01T09:39:47.681206Z",
     "start_time": "2017-05-01T11:39:47.678406+02:00"
    }
   },
   "source": [
    "## Validation"
   ]
  },
  {
   "cell_type": "markdown",
   "metadata": {},
   "source": [
    "`get the process and flows exchange amount both static and the dynamic approach`"
   ]
  },
  {
   "cell_type": "code",
   "execution_count": 15,
   "metadata": {
    "ExecuteTime": {
     "end_time": "2017-05-05T08:40:11.597126Z",
     "start_time": "2017-05-05T10:40:11.567208+02:00"
    },
    "scrolled": true
   },
   "outputs": [
    {
     "name": "stderr",
     "output_type": "stream",
     "text": [
      "Warning: Interpreting naive datetime as local 2017-05-05 10:40:11.567208. Please add timezone info to timestamps.\n"
     ]
    }
   ],
   "source": [
    "# get process in stati LCA (this is the part that need to be uncommented out)\n",
    "static_pr={x[2][1]:x[1] for x in con().annotated_top_processes(lca,names=False,limit=None) if x[1]!=0}\n",
    "df_st_pr=pd.DataFrame(list(static_pr.items()), columns=['product', 'static'])\n",
    "df_st_pr=df_st_pr.round(5)\n",
    "\n",
    "# get flows in static LCA\n",
    "static_fl={x[2][1]:x[1] for x in con().annotated_top_emissions(lca,names=False,limit=None) if x[1]!=0 and x[2] in bio_meth}\n",
    "df_st_fl=pd.DataFrame(list(static_fl.items()), columns=['flow', 'static'])\n",
    "df_st_fl=df_st_fl.round(5)"
   ]
  },
  {
   "cell_type": "code",
   "execution_count": 16,
   "metadata": {
    "ExecuteTime": {
     "end_time": "2017-05-05T08:40:11.620306Z",
     "start_time": "2017-05-05T10:40:11.599036+02:00"
    },
    "run_control": {
     "marked": true
    },
    "scrolled": true
   },
   "outputs": [
    {
     "name": "stderr",
     "output_type": "stream",
     "text": [
      "Warning: Interpreting naive datetime as local 2017-05-05 10:40:11.599036. Please add timezone info to timestamps.\n"
     ]
    }
   ],
   "source": [
    "# get process in dynamic LCA (this is the part that need to be uncommented out)\n",
    "\n",
    "dyn_pr={k[1]:v for k,v in dlca.test.items()}\n",
    "df_dyn_pr=pd.DataFrame(list(dyn_pr.items()), columns=['product', 'dynamic'])\n",
    "df_dyn_pr=df_dyn_pr.round(5)\n",
    "\n",
    "# get flows in dynamic LCA\n",
    "dyn_fl={x[1]:timeline.total_amount_for_flow(x) for x in timeline.flows() if x in bio_meth}\n",
    "df_dyn_fl=pd.DataFrame(list(dyn_fl.items()), columns=['flow', 'dynamic'])\n",
    "df_dyn_fl=df_dyn_fl.round(5)"
   ]
  },
  {
   "cell_type": "code",
   "execution_count": 17,
   "metadata": {
    "ExecuteTime": {
     "end_time": "2017-05-05T08:40:11.654132Z",
     "start_time": "2017-05-05T10:40:11.622228+02:00"
    }
   },
   "outputs": [
    {
     "data": {
      "text/plain": [
       "Counter({('Functional unit', ('tempo_example', '4')): 1,\n",
       "         (('tempo_example', '6'), ('tempo_example', '5')): 5,\n",
       "         (('tempo_example', '4'), ('tempo_example', '6')): 1,\n",
       "         (('tempo_example', '4'), ('tempo_example', '5')): 1,\n",
       "         (('tempo_example', '2'), ('tempo_example', '6')): 6,\n",
       "         (('tempo_example', '6'), ('tempo_example', '2')): 6})"
      ]
     },
     "execution_count": 17,
     "metadata": {},
     "output_type": "execute_result"
    },
    {
     "name": "stderr",
     "output_type": "stream",
     "text": [
      "Warning: Interpreting naive datetime as local 2017-05-05 10:40:11.622228. Please add timezone info to timestamps.\n"
     ]
    }
   ],
   "source": [
    "#just to check how many times the loops were iterated\n",
    "dlca.loops"
   ]
  },
  {
   "cell_type": "markdown",
   "metadata": {},
   "source": [
    "`compare the difference in process and flow exchanged between the two (diff is percentage of diff)`"
   ]
  },
  {
   "cell_type": "code",
   "execution_count": 18,
   "metadata": {
    "ExecuteTime": {
     "end_time": "2017-05-05T08:40:11.688224Z",
     "start_time": "2017-05-05T10:40:11.656082+02:00"
    },
    "scrolled": false
   },
   "outputs": [
    {
     "data": {
      "text/html": [
       "<div>\n",
       "<table border=\"1\" class=\"dataframe\">\n",
       "  <thead>\n",
       "    <tr style=\"text-align: right;\">\n",
       "      <th></th>\n",
       "      <th>product</th>\n",
       "      <th>static</th>\n",
       "      <th>dynamic</th>\n",
       "      <th>difference (%)</th>\n",
       "    </tr>\n",
       "  </thead>\n",
       "  <tbody>\n",
       "    <tr>\n",
       "      <th>2</th>\n",
       "      <td>1</td>\n",
       "      <td>0.600</td>\n",
       "      <td>0.600</td>\n",
       "      <td>0.000</td>\n",
       "    </tr>\n",
       "    <tr>\n",
       "      <th>1</th>\n",
       "      <td>2</td>\n",
       "      <td>0.188</td>\n",
       "      <td>0.187</td>\n",
       "      <td>-0.005</td>\n",
       "    </tr>\n",
       "    <tr>\n",
       "      <th>3</th>\n",
       "      <td>3</td>\n",
       "      <td>0.240</td>\n",
       "      <td>nan</td>\n",
       "      <td>nan</td>\n",
       "    </tr>\n",
       "    <tr>\n",
       "      <th>5</th>\n",
       "      <td>4</td>\n",
       "      <td>1.000</td>\n",
       "      <td>1.000</td>\n",
       "      <td>0.000</td>\n",
       "    </tr>\n",
       "    <tr>\n",
       "      <th>4</th>\n",
       "      <td>5</td>\n",
       "      <td>0.675</td>\n",
       "      <td>0.675</td>\n",
       "      <td>-0.003</td>\n",
       "    </tr>\n",
       "    <tr>\n",
       "      <th>0</th>\n",
       "      <td>6</td>\n",
       "      <td>0.375</td>\n",
       "      <td>0.375</td>\n",
       "      <td>0.000</td>\n",
       "    </tr>\n",
       "  </tbody>\n",
       "</table>\n",
       "</div>"
      ],
      "text/plain": [
       "  product  static  dynamic  difference (%)\n",
       "2       1   0.600    0.600           0.000\n",
       "1       2   0.188    0.187          -0.005\n",
       "3       3   0.240      nan             nan\n",
       "5       4   1.000    1.000           0.000\n",
       "4       5   0.675    0.675          -0.003\n",
       "0       6   0.375    0.375           0.000"
      ]
     },
     "execution_count": 18,
     "metadata": {},
     "output_type": "execute_result"
    },
    {
     "name": "stderr",
     "output_type": "stream",
     "text": [
      "Warning: Interpreting naive datetime as local 2017-05-05 10:40:11.656082. Please add timezone info to timestamps.\n"
     ]
    }
   ],
   "source": [
    "#difference in processes between dynamic and static\n",
    "pr=df_st_pr.merge(df_dyn_pr,how='left',on='product')\n",
    "pr['difference (%)']=((pr.dynamic-pr.static)/pr.static)*100\n",
    "pr=pr.sort_values(['product'],ascending=[True])\n",
    "pr"
   ]
  },
  {
   "cell_type": "code",
   "execution_count": 19,
   "metadata": {
    "ExecuteTime": {
     "end_time": "2017-05-05T08:40:11.718238Z",
     "start_time": "2017-05-05T10:40:11.690141+02:00"
    },
    "scrolled": false
   },
   "outputs": [
    {
     "data": {
      "text/html": [
       "<div>\n",
       "<table border=\"1\" class=\"dataframe\">\n",
       "  <thead>\n",
       "    <tr style=\"text-align: right;\">\n",
       "      <th></th>\n",
       "      <th>flow</th>\n",
       "      <th>static</th>\n",
       "      <th>dynamic</th>\n",
       "      <th>difference (%)</th>\n",
       "    </tr>\n",
       "  </thead>\n",
       "  <tbody>\n",
       "    <tr>\n",
       "      <th>2</th>\n",
       "      <td>a</td>\n",
       "      <td>10.710</td>\n",
       "      <td>10.710</td>\n",
       "      <td>-0.002</td>\n",
       "    </tr>\n",
       "    <tr>\n",
       "      <th>0</th>\n",
       "      <td>b</td>\n",
       "      <td>3.500</td>\n",
       "      <td>3.500</td>\n",
       "      <td>-0.001</td>\n",
       "    </tr>\n",
       "    <tr>\n",
       "      <th>1</th>\n",
       "      <td>c</td>\n",
       "      <td>5.438</td>\n",
       "      <td>5.437</td>\n",
       "      <td>-0.001</td>\n",
       "    </tr>\n",
       "  </tbody>\n",
       "</table>\n",
       "</div>"
      ],
      "text/plain": [
       "  flow  static  dynamic  difference (%)\n",
       "2    a  10.710   10.710          -0.002\n",
       "0    b   3.500    3.500          -0.001\n",
       "1    c   5.438    5.437          -0.001"
      ]
     },
     "execution_count": 19,
     "metadata": {},
     "output_type": "execute_result"
    },
    {
     "name": "stderr",
     "output_type": "stream",
     "text": [
      "Warning: Interpreting naive datetime as local 2017-05-05 10:40:11.690141. Please add timezone info to timestamps.\n"
     ]
    }
   ],
   "source": [
    "#difference in flows between dynamic and static\n",
    "fl=df_st_fl.merge(df_dyn_fl,how='left',on='flow')\n",
    "fl['difference (%)']=((fl.dynamic-fl.static)/fl.dynamic)*100\n",
    "fl.dropna(subset=['difference (%)'],inplace=True)\n",
    "fl=fl.sort_values(['flow'],ascending=[True])\n",
    "fl"
   ]
  },
  {
   "cell_type": "markdown",
   "metadata": {},
   "source": [
    "`plot the environmental interventions by process`"
   ]
  },
  {
   "cell_type": "code",
   "execution_count": 23,
   "metadata": {
    "ExecuteTime": {
     "end_time": "2017-05-05T08:47:14.770831Z",
     "start_time": "2017-05-05T10:47:13.983311+02:00"
    }
   },
   "outputs": [
    {
     "data": {
      "image/png": "[encoded data removed]",
      "text/plain": [
       "<matplotlib.figure.Figure at 0x7f451b9b8048>"
      ]
     },
     "metadata": {},
     "output_type": "display_data"
    },
    {
     "name": "stderr",
     "output_type": "stream",
     "text": [
      "Warning: Interpreting naive datetime as local 2017-05-05 10:47:13.983311. Please add timezone info to timestamps.\n"
     ]
    }
   ],
   "source": [
    "df_pf=pd.DataFrame(index=[int(x) for x in res[0]])\n",
    "for y in timeline.processes():\n",
    "    t_pr=timeline.timeline_for_activity(y)\n",
    "    for x in timeline.flows():\n",
    "        if len(t_pr.timeline_for_flow(x).raw)>0:\n",
    "            car=t_pr.timeline_for_flow(x).characterize_static(method,cumulative=False)\n",
    "            df_pf[y[1],x[1]]=pd.Series(car[1],index=[int(x) for x in car[0]])\n",
    "df_pf=df_pf.drop(list(range(1966,1987))) #delete extra row\n",
    "df_pf.fillna(0,inplace=True)\n",
    "ax=df_pf.plot()#legend=True,figsize=(10,7))\n",
    "\n",
    "#x-ylabel\n",
    "ax.set_ylabel(' $g_{i,p}$')#,fontsize=22)\n",
    "ax.set_xlabel('year')#,fontsize=22)\n",
    "# plt.savefig('/media/giuseppec/25F62A4E5FEED162/work/papers/temporalis_paper/pictures/bio_by_flow.eps', format='eps',dpi=200,bbox_inches='tight')\n",
    "plt.savefig('/media/giuseppec/25F62A4E5FEED162/work/papers/temporalis_paper/pictures/bio_by_flow.png', format='png',dpi=200,bbox_inches='tight')\n",
    "\n",
    "# gi,p"
   ]
  },
  {
   "cell_type": "markdown",
   "metadata": {},
   "source": [
    "`plot cumulative interventions`\n"
   ]
  },
  {
   "cell_type": "code",
   "execution_count": 24,
   "metadata": {
    "ExecuteTime": {
     "end_time": "2017-05-05T08:48:26.537182Z",
     "start_time": "2017-05-05T10:48:25.972598+02:00"
    },
    "scrolled": false
   },
   "outputs": [
    {
     "data": {
      "image/png": "[encoded data removed]",
      "text/plain": [
       "<matplotlib.figure.Figure at 0x7f4515f73be0>"
      ]
     },
     "metadata": {},
     "output_type": "display_data"
    },
    {
     "name": "stderr",
     "output_type": "stream",
     "text": [
      "Warning: Interpreting naive datetime as local 2017-05-05 10:48:25.972598. Please add timezone info to timestamps.\n"
     ]
    }
   ],
   "source": [
    "df_flow=pd.DataFrame(index=[int(x) for x in res[0]])\n",
    "for x in timeline.flows():\n",
    "    car=timeline.timeline_for_flow(x).characterize_static(method,cumulative=False)\n",
    "    df_flow[x[1]]=pd.Series(car[1],index=[int(x) for x in car[0]])\n",
    "df_flow=df_flow.drop(list(range(1966,1987))) #delete extra row\n",
    "df_flow.fillna(0,inplace=True)\n",
    "ax=df_flow.plot()\n",
    "\n",
    "#x-ylabel\n",
    "ax.set_ylabel(' $g_{i}$')#,fontsize=22)\n",
    "ax.set_xlabel('year')#,fontsize=22)\n",
    "# plt.savefig('/media/giuseppec/25F62A4E5FEED162/work/papers/temporalis_paper/pictures/bio.eps', format='eps',dpi=200,bbox_inches='tight')\n",
    "plt.savefig('/media/giuseppec/25F62A4E5FEED162/work/papers/temporalis_paper/pictures/bio.png', format='png',dpi=200,bbox_inches='tight')\n"
   ]
  },
  {
   "cell_type": "markdown",
   "metadata": {},
   "source": [
    "`The cells below are used for the paper`"
   ]
  },
  {
   "cell_type": "code",
   "execution_count": 7,
   "metadata": {
    "ExecuteTime": {
     "end_time": "2017-09-08T14:24:00.179304Z",
     "start_time": "2017-09-08T14:24:00.157769Z"
    }
   },
   "outputs": [
    {
     "name": "stdout",
     "output_type": "stream",
     "text": [
      "6 to 2 [-3. -1.] [ 0.2  0.2] 0.4\n",
      "c to 2 [-5. -4. -1.  0.] [ 1.   1.5  1.7  0.8] 5\n",
      "1 to 4 [-1.  0.] [ 0.2  0.4] 0.6\n",
      "5 to 4 [-2.  0.] [ 0.4  0.2] 0.6\n",
      "6 to 4 [-1.  0.] [ 0.14  0.16] 0.3\n",
      "a to 4 [-2. -1.  0.  1.] [ 1.5  0.5  0.4  0.6] 3\n",
      "b to 4 [-1  1] [1 1] 2\n",
      "a to 5 [-10  -9  -8  -7  -6  -5  -4  -3  -2  -1] [1 1 1 1 1 1 1 1 1 1] 10\n",
      "2 to 6 [-5. -4.] [ 0.2  0.3] 0.5\n",
      "5 to 6 [-1.  0.  1.] [ 0.04  0.06  0.1 ] 0.2\n",
      "b to 6 [-2 -1  0  1] [1 1 1 1] 4\n",
      "3 to 1 0.4\n",
      "c to 1 7.5\n",
      "a to 3 4\n"
     ]
    }
   ],
   "source": [
    "#just get TD of the database\n",
    "for k,v in tempo_example.items():\n",
    "    if 'exchanges' in v:\n",
    "        for exc in v['exchanges']:\n",
    "            if 'temporal distribution' in exc:\n",
    "                array = np.array(exc[u'temporal distribution'])\n",
    "                print(exc.get('input')[1],'to',v['name'],array[:, 0], array[:, 1],exc.get('amount'))\n",
    "    \n",
    "for k,v in static.items():\n",
    "    if 'exchanges' in v:\n",
    "        for exc in v['exchanges']:\n",
    "            print(exc.get('input')[1],'to',v['name'],exc.get('amount'))"
   ]
  },
  {
   "cell_type": "code",
   "execution_count": 14,
   "metadata": {
    "ExecuteTime": {
     "end_time": "2017-09-08T15:31:50.016607Z",
     "start_time": "2017-09-08T15:31:49.990326Z"
    }
   },
   "outputs": [
    {
     "name": "stdout",
     "output_type": "stream",
     "text": [
      "$\n",
      "A= \\begin{bmatrix}\n",
      "  1. & 0. & 0. & -0.6 & 0. & 0.\\\\\n",
      "  0. & 1. & 0. & 0. & 0. & -0.5\\\\\n",
      "  -0.4 & 0. & 1. & 0. & 0. & 0.\\\\\n",
      "  0. & 0. & 0. & 1. & 0. & 0.\\\\\n",
      "  0. & 0. & 0. & -0.6 & 1. & -0.2\\\\\n",
      "  0. & -0.4 & 0. & -0.3 & 0. & 1.\\\\\n",
      "\\end{bmatrix}\n",
      "B= \\begin{bmatrix}\n",
      "  0. & 3. & 10. & 0. & 0. & 4.\\\\\n",
      "  0. & 2. & 0. & 4. & 0. & 0.\\\\\n",
      "  5. & 0. & 0. & 0. & 7.5 & 0.\\\\\n",
      "\\end{bmatrix}\n"
     ]
    }
   ],
   "source": [
    "#convert matrix into latex format for paper\n",
    "def bmatrix(a):\n",
    "    \"\"\"Returns a LaTeX bmatrix\n",
    "\n",
    "    :a: numpy array\n",
    "    :returns: LaTeX bmatrix as a string\n",
    "    \"\"\"\n",
    "    if len(a.shape) > 2:\n",
    "        raise ValueError('bmatrix can at most display two dimensions')\n",
    "    lines = str(a).replace('[', '').replace(']', '').splitlines()\n",
    "    rv = [r'\\begin{bmatrix}']\n",
    "    rv += ['  ' + ' & '.join(l.split()) + r'\\\\' for l in lines]\n",
    "    rv +=  [r'\\end{bmatrix}']\n",
    "    return '\\n'.join(rv)\n",
    "# inv.as_matrix()\n",
    "# A = np.array([[12, 5, 2], [20, 4, 8], [ 2, 4, 3], [ 7, 1, 10]])\n",
    "\n",
    "# for x in [tec,bio_mat,inv,scaling]:\n",
    "print('$\\nA=',bmatrix(tec.as_matrix()))\n",
    "print('B=',bmatrix(bio_mat.as_matrix()))\n",
    "# print('s=',bmatrix(scaling.as_matrix()))\n",
    "# print('g=',bmatrix(bio_mat.as_matrix()) + '\\n$')\n",
    "\n",
    "# B = np.array([[1.2], [3.7], [0.2]])\n",
    "# print bmatrix(B) + '\\n'\n",
    "\n",
    "# C = np.array([1.2, 9.3, 0.6, -2.1])\n",
    "# print bmatrix(C) + '\\n'"
   ]
  },
  {
   "cell_type": "raw",
   "metadata": {
    "ExecuteTime": {
     "end_time": "2017-05-01T10:20:43.381387Z",
     "start_time": "2017-05-01T12:20:43.345832+02:00"
    },
    "collapsed": true
   },
   "source": [
    "#append balance check to validation table\n",
    "\n",
    "tab='/media/giuseppec/25F62A4E5FEED162/work/papers/temporalis_paper/artifical_table.xlsx'\n",
    "tab_all='/media/giuseppec/25F62A4E5FEED162/work/papers/temporalis_paper/artifical_table_all.xlsx'\n",
    "df_tab=pd.read_excel(tab)\n",
    "\n",
    "writer = pd.ExcelWriter(tab_all, engine='openpyxl')\n",
    "#rewrite_tav\n",
    "df_tab.to_excel(writer, index=False)\n",
    "#write pr and flow\n",
    "pr.to_excel(writer, startrow=len(df_tab)+1, index=False)\n",
    "fl.to_excel(writer, startrow=len(df_tab)+len(pr)+2, index=False)\n",
    "\n",
    "writer.save()\n"
   ]
  }
 ],
 "metadata": {
  "kernelspec": {
   "display_name": "Python 3",
   "language": "python",
   "name": "python3"
  },
  "language_info": {
   "codemirror_mode": {
    "name": "ipython",
    "version": 3
   },
   "file_extension": ".py",
   "mimetype": "text/x-python",
   "name": "python",
   "nbconvert_exporter": "python",
   "pygments_lexer": "ipython3",
   "version": "3.6.2"
  }
 },
 "nbformat": 4,
 "nbformat_minor": 1
}
